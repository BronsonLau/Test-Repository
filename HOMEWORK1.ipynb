{
 "cells": [
  {
   "cell_type": "code",
   "execution_count": 1,
   "metadata": {},
   "outputs": [
    {
     "name": "stdout",
     "output_type": "stream",
     "text": [
      "★ 数据科学与工程导论 ★\n"
     ]
    }
   ],
   "source": [
    "#1 \n",
    "print(chr(0x2605) + \" 数据科学与工程导论 \" + chr(0x2605))"
   ]
  },
  {
   "cell_type": "code",
   "execution_count": 1,
   "metadata": {},
   "outputs": [],
   "source": [
    "#2\n",
    "X = input(\"Enter a number X: \")\n",
    "Y = input(\"Enter a number Y: \")\n",
    "Z = input(\"Enter a number Z: \")\n",
    "\n",
    "numbers = [X, Y, Z]\n",
    "\n",
    "numbers.sort()\n",
    "\n",
    "for number in numbers:\n",
    "    print(number)\n",
    "\n"
   ]
  },
  {
   "cell_type": "code",
   "execution_count": null,
   "metadata": {},
   "outputs": [],
   "source": [
    "\n",
    "#3\n",
    "W = input(\"Enter a number W: \")\n",
    "X = input(\"Enter a number X: \")\n",
    "Y = input(\"Enter a number Y: \")\n",
    "Z = input(\"Enter a number Z: \")\n",
    "\n",
    "\n",
    "numbers = [W, X, Y, Z]\n",
    "\n",
    "numbers.sort(reverse=True)\n",
    "\n",
    "for number in numbers:\n",
    "    print(number)"
   ]
  },
  {
   "cell_type": "code",
   "execution_count": null,
   "metadata": {},
   "outputs": [],
   "source": [
    "#4\n",
    "for number in range(1, 101):\n",
    "    if number % 2 ==1:\n",
    "        print(number)"
   ]
  },
  {
   "cell_type": "code",
   "execution_count": null,
   "metadata": {},
   "outputs": [],
   "source": [
    "#5\n",
    "count = 0\n",
    "for number in range(1, 101):\n",
    "    count += number\n",
    "    \n",
    "print(count)"
   ]
  },
  {
   "cell_type": "code",
   "execution_count": null,
   "metadata": {},
   "outputs": [],
   "source": [
    "#6 for\n",
    "\n",
    "L = [1, 2, 3, 4, 5] #假设有这个列表\n",
    "\n",
    "reversed_list_for = []\n",
    "\n",
    "for i in range(len(L) - 1, -1, -1):\n",
    "    reversed_list_for.append(L[i])\n",
    "\n",
    "print(reversed_list_for)\n",
    "\n"
   ]
  },
  {
   "cell_type": "code",
   "execution_count": null,
   "metadata": {},
   "outputs": [],
   "source": [
    "#6 while\n",
    "\n",
    "L = [1, 2, 3, 4, 5]\n",
    "\n",
    "reversed_list_while = []\n",
    "\n",
    "i = len(L) - 1\n",
    "while i >= 0:\n",
    "    reversed_list_while.append(L[i])\n",
    "    i -= 1\n",
    "    \n",
    "print(reversed_list_while)    "
   ]
  },
  {
   "cell_type": "code",
   "execution_count": null,
   "metadata": {},
   "outputs": [],
   "source": [
    "#7\n",
    "def has_consecutive_chars(s):\n",
    "    max_count = 1  \n",
    "    current_count = 1  \n",
    "    \n",
    "    for i in range(1, len(s)):\n",
    "        if s[i] == s[i - 1]:  \n",
    "            current_count += 1  \n",
    "            if current_count >= 2:  \n",
    "                return True\n",
    "        else:\n",
    "            current_count = 1 \n",
    "            \n",
    "    return False\n",
    "\n",
    "s = input(\"请输入字符串：\")\n",
    "\n",
    "if has_consecutive_chars(s):\n",
    "    print(\"是\")\n",
    "else:\n",
    "    print(\"否\")"
   ]
  },
  {
   "cell_type": "code",
   "execution_count": null,
   "metadata": {},
   "outputs": [],
   "source": [
    "#8\n",
    "def remove_spaces(s):\n",
    "    return s.replace(\" \", \"\")\n",
    "\n",
    "S = input(\"请输入字符串 S: \")\n",
    "\n",
    "outcome = remove_spaces(S)\n",
    "print(outcome)"
   ]
  },
  {
   "cell_type": "code",
   "execution_count": null,
   "metadata": {},
   "outputs": [],
   "source": [
    "#9 \n",
    "def cube_root_newton(a, buttom=1e-7, top=1000):\n",
    "    if a == 0:\n",
    "        return 0\n",
    "    \n",
    "    x = a / 3.0\n",
    "    \n",
    "    for _ in range(top):\n",
    "        \n",
    "        x_new = x - (x**3 - a) / (3 * x**2)\n",
    "        \n",
    "        \n",
    "        if abs(x_new - x) < buttom:\n",
    "            return x_new\n",
    "        \n",
    "        x = x_new\n",
    "    \n",
    "   \n",
    "    return x\n",
    "\n",
    "a = float(input(\"请输入一个数: \"))\n",
    "result = cube_root_newton(a)\n",
    "print(f\"答案是: {result}\")"
   ]
  },
  {
   "cell_type": "code",
   "execution_count": 1,
   "metadata": {},
   "outputs": [
    {
     "name": "stdout",
     "output_type": "stream",
     "text": [
      "120\n"
     ]
    }
   ],
   "source": [
    "#10\n",
    "\n",
    "n = int(input(\"请输入一个整数：\"))\n",
    "answer = 1\n",
    "\n",
    "for i in range (n , 1 , -1):\n",
    "    answer *= i\n",
    "\n",
    "print(answer)"
   ]
  },
  {
   "cell_type": "code",
   "execution_count": null,
   "metadata": {},
   "outputs": [],
   "source": []
  }
 ],
 "metadata": {
  "kernelspec": {
   "display_name": "Python 3",
   "language": "python",
   "name": "python3"
  },
  "language_info": {
   "codemirror_mode": {
    "name": "ipython",
    "version": 3
   },
   "file_extension": ".py",
   "mimetype": "text/x-python",
   "name": "python",
   "nbconvert_exporter": "python",
   "pygments_lexer": "ipython3",
   "version": "3.12.2"
  }
 },
 "nbformat": 4,
 "nbformat_minor": 2
}
